{
 "cells": [
  {
   "cell_type": "code",
   "execution_count": 19,
   "metadata": {
    "collapsed": false
   },
   "outputs": [],
   "source": [
    "import numpy as np\n",
    "import pandas as pd\n",
    "import matplotlib.pyplot as plt\n",
    "import math\n",
    "%matplotlib inline"
   ]
  },
  {
   "cell_type": "code",
   "execution_count": 20,
   "metadata": {
    "collapsed": false
   },
   "outputs": [],
   "source": [
    "boston_data=np.loadtxt(\"boston.csv\",delimiter=\",\")"
   ]
  },
  {
   "cell_type": "code",
   "execution_count": null,
   "metadata": {
    "collapsed": true
   },
   "outputs": [],
   "source": [
    "#LDA"
   ]
  },
  {
   "cell_type": "code",
   "execution_count": 21,
   "metadata": {
    "collapsed": true
   },
   "outputs": [],
   "source": [
    "boston_data_50=np.copy(boston_data)\n",
    "boston_data_50[:,-1]=(boston_data_50[:,-1]>=np.percentile(boston_data_50[:,-1],50)).astype(int)"
   ]
  },
  {
   "cell_type": "code",
   "execution_count": 23,
   "metadata": {
    "collapsed": false
   },
   "outputs": [],
   "source": [
    "def LDA_means(X,target):\n",
    "        classes=list(np.unique(target))\n",
    "        mu=np.zeros(shape=(len(classes),X.shape[1]))\n",
    "        for x in classes:\n",
    "            mu[x]=(np.apply_along_axis(np.mean,0,X[target==x]).reshape(1,X.shape[1]))\n",
    "        return mu"
   ]
  },
  {
   "cell_type": "code",
   "execution_count": 24,
   "metadata": {
    "collapsed": false
   },
   "outputs": [],
   "source": [
    "def within_class_variance(X,mus,target):\n",
    "    classes=list(np.unique(target))\n",
    "    Sw=np.zeros((mus.shape[1],mus.shape[1]))\n",
    "    i=1\n",
    "    for x in classes:\n",
    "        Swi=np.zeros((mus.shape[1],mus.shape[1]))\n",
    "        for y in range(0,len(X[target==x])):\n",
    "            Swi=np.add(Swi,np.subtract(X[target==x][y].reshape(13,1),mus[x].reshape(13,1)).dot(\n",
    "                                  np.subtract(X[target==x][y].reshape(1,13),mus[x].reshape(1,13))))\n",
    "        Sw=np.add(Sw,Swi)\n",
    "    return Sw"
   ]
  },
  {
   "cell_type": "code",
   "execution_count": 25,
   "metadata": {
    "collapsed": false
   },
   "outputs": [],
   "source": [
    "def between_class_variance(X,mus,target):\n",
    "    classes=list(np.unique(target))\n",
    "    Sb=np.zeros((mus.shape[1],mus.shape[1]))\n",
    "    mu=np.mean(X,0)\n",
    "    for x in classes:\n",
    "        Sb=np.add(Sb,np.multiply(np.subtract(mus[x],mu).reshape(13,1).dot(np.subtract(mus[x].reshape(1,13),mu.reshape(1,13))),\n",
    "                                 len(X[target==x])))\n",
    "    return Sb"
   ]
  },
  {
   "cell_type": "code",
   "execution_count": 26,
   "metadata": {
    "collapsed": false
   },
   "outputs": [],
   "source": [
    "def x_hat_func(Sw,Sb,Xtrain,Xtest):\n",
    "    final_matrix  = np.dot(np.linalg.inv(Sw), Sb)\n",
    "    W,V=np.linalg.eig(final_matrix)\n",
    "    xhat=Xtrain.dot(V[:,np.argsort(abs(W))[-1]].real.reshape(Xtrain.shape[1],1))\n",
    "    xhat_test=Xtest.dot(V[:,np.argsort(abs(W))[-1]].real.reshape(Xtest.shape[1],1))\n",
    "    return abs(xhat),abs(xhat_test)"
   ]
  },
  {
   "cell_type": "code",
   "execution_count": 27,
   "metadata": {
    "collapsed": true
   },
   "outputs": [],
   "source": [
    "def accuracy(ytest,yhat):\n",
    "    right=float((yhat==ytest).sum())\n",
    "    accuracy=right/float(ytest.shape[0])\n",
    "    return accuracy"
   ]
  },
  {
   "cell_type": "code",
   "execution_count": 28,
   "metadata": {
    "collapsed": false
   },
   "outputs": [],
   "source": [
    "def cross_validation(X):\n",
    "    np.random.shuffle(X)\n",
    "    index=[]\n",
    "    for i in range(0,10):\n",
    "        index.append(range(X.shape[0]*i/10,X.shape[0]*(i+1)/10))\n",
    "    accura=[]\n",
    "    accura_train=[]\n",
    "    for i in range(0,len(index)):\n",
    "        Xtest=np.copy(X[index[i],:-1])\n",
    "        ytest=np.copy(X[index[i],-1])\n",
    "        Xtrain=np.delete(X[:,:-1],index[i],axis=0)\n",
    "        ytrain=np.delete(X[:,-1],index[i],axis=0)\n",
    "        mus=LDA_means(Xtrain,ytrain)\n",
    "        Sw=within_class_variance(Xtrain,mus,ytrain)\n",
    "        Sb=between_class_variance(Xtrain,mus,ytrain)\n",
    "        xhat,xhat_test=x_hat_func(Sw,Sb,Xtrain,Xtest)\n",
    "        mean=[]\n",
    "        for y in np.unique(ytrain):\n",
    "            mean.append(np.mean(xhat[ytrain==y]))\n",
    "        yhat=(xhat_test<=np.mean(mean)).astype(int)\n",
    "        yhat_train=(xhat<=np.mean(mean)).astype(int)\n",
    "        accura.append(accuracy(ytest.reshape(ytest.shape[0],1),yhat))\n",
    "        accura_train.append(accuracy(ytrain.reshape(ytrain.shape[0],1),yhat_train))\n",
    "    return accura,accura_train"
   ]
  },
  {
   "cell_type": "code",
   "execution_count": 30,
   "metadata": {
    "collapsed": false
   },
   "outputs": [
    {
     "name": "stdout",
     "output_type": "stream",
     "text": [
      "Traing Error\n",
      "[0.14254385964912286, 0.15164835164835166, 0.13157894736842102, 0.14505494505494509, 0.14065934065934071, 0.13596491228070173, 0.1428571428571429, 0.14473684210526316, 0.1428571428571429, 0.13846153846153841]\n",
      "------------\n",
      "Standard Deveation Train\n",
      "0.00519321474277\n",
      "------------\n",
      "Train error mean\n",
      "0.141636302294\n",
      "------------\n",
      "Test Error\n",
      "[0.12, 0.058823529411764719, 0.26000000000000001, 0.13725490196078427, 0.21568627450980393, 0.18000000000000005, 0.11764705882352944, 0.19999999999999996, 0.13725490196078427, 0.11764705882352944]\n",
      "------------\n",
      "Test error mean\n",
      "0.154431372549\n",
      "------------\n",
      "Standard Deveation test\n",
      "0.0559014896714\n"
     ]
    }
   ],
   "source": [
    "acc,acc_train=cross_validation(boston_data_50)\n",
    "error=list(1.0-np.array(acc))\n",
    "error_train=list(1.0-np.array(acc_train))\n",
    "print \"Traing Error\"\n",
    "print error_train\n",
    "print \"------------\"\n",
    "print \"Standard Deveation Train\"\n",
    "print np.std(error_train)\n",
    "print \"------------\"\n",
    "print \"Train error mean\"\n",
    "print np.mean(error_train)\n",
    "print \"------------\"\n",
    "print \"Test Error\"\n",
    "print error\n",
    "print \"------------\"\n",
    "print \"Test error mean\"\n",
    "print np.mean(error)\n",
    "print \"------------\"\n",
    "print \"Standard Deveation test\"\n",
    "print np.std(error)"
   ]
  }
 ],
 "metadata": {
  "kernelspec": {
   "display_name": "Python 2",
   "language": "python",
   "name": "python2"
  },
  "language_info": {
   "codemirror_mode": {
    "name": "ipython",
    "version": 2
   },
   "file_extension": ".py",
   "mimetype": "text/x-python",
   "name": "python",
   "nbconvert_exporter": "python",
   "pygments_lexer": "ipython2",
   "version": "2.7.9"
  }
 },
 "nbformat": 4,
 "nbformat_minor": 0
}
