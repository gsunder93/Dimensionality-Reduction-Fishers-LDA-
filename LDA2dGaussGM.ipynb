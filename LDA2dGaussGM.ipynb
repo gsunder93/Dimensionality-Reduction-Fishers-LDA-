{
 "cells": [
  {
   "cell_type": "code",
   "execution_count": 1,
   "metadata": {
    "collapsed": false
   },
   "outputs": [],
   "source": [
    "import numpy as np\n",
    "import pandas as pd\n",
    "import matplotlib.pyplot as plt\n",
    "import math\n",
    "%matplotlib inline"
   ]
  },
  {
   "cell_type": "code",
   "execution_count": 2,
   "metadata": {
    "collapsed": true
   },
   "outputs": [],
   "source": [
    "digits_data=np.loadtxt(\"digits.csv\",delimiter=\",\")"
   ]
  },
  {
   "cell_type": "code",
   "execution_count": null,
   "metadata": {
    "collapsed": true
   },
   "outputs": [],
   "source": [
    "#LDA"
   ]
  },
  {
   "cell_type": "code",
   "execution_count": 3,
   "metadata": {
    "collapsed": false
   },
   "outputs": [],
   "source": [
    "def LDA_means(X,target):\n",
    "        classes=list(np.unique(target))\n",
    "        mu=np.zeros(shape=(len(classes),X.shape[1]))\n",
    "        for x in classes:\n",
    "            mu[x]=np.apply_along_axis(np.mean,0,X[target==x]).reshape(1,X.shape[1])\n",
    "        return mu"
   ]
  },
  {
   "cell_type": "code",
   "execution_count": 4,
   "metadata": {
    "collapsed": false
   },
   "outputs": [],
   "source": [
    "def within_class_variance(X,mus,target):\n",
    "    classes=list(np.unique(target))\n",
    "    Sw=np.zeros((mus.shape[1],mus.shape[1]))\n",
    "    i=1\n",
    "    for x in classes:\n",
    "        Swi=np.zeros((mus.shape[1],mus.shape[1]))\n",
    "        for y in range(0,len(X[target==x])):\n",
    "            Swi=np.add(Swi,np.subtract(X[target==x][y].reshape(X.shape[1],1),mus[x].reshape(X.shape[1],1)).dot(\n",
    "                                  np.subtract(X[target==x][y].reshape(1,X.shape[1]),mus[x].reshape(1,X.shape[1]))))\n",
    "        Sw=np.add(Sw,Swi)\n",
    "    return Sw"
   ]
  },
  {
   "cell_type": "code",
   "execution_count": 5,
   "metadata": {
    "collapsed": false
   },
   "outputs": [],
   "source": [
    "def between_class_variance(X,mus,target):\n",
    "    classes=list(np.unique(target))\n",
    "    Sb=np.zeros((mus.shape[1],mus.shape[1]))\n",
    "    mu=np.mean(X,0)\n",
    "    for x in classes:\n",
    "        Sb=np.add(Sb,np.multiply(np.subtract(mus[x],mu).reshape(X.shape[1],1).\n",
    "                                 dot(np.subtract(mus[x].reshape(1,X.shape[1]),\n",
    "                                                 mu.reshape(1,X.shape[1]))),len(X[target==x])))\n",
    "    return Sb"
   ]
  },
  {
   "cell_type": "code",
   "execution_count": 6,
   "metadata": {
    "collapsed": false
   },
   "outputs": [],
   "source": [
    "def x_hat_func(Sw,Sb,Xtrain,Xtest):\n",
    "    final_matrix  = np.dot(np.linalg.pinv(Sw), Sb)\n",
    "    W,V=np.linalg.eig(final_matrix)\n",
    "    xhat=Xtrain.dot(V[:,[np.argsort(abs(W))[-1],np.argsort(abs(W))[(W.shape[0]-2)]]].real.reshape(Xtrain.shape[1],2))\n",
    "    xhat_test=Xtest.dot(V[:,[np.argsort(abs(W))[-1],np.argsort(abs(W))[(W.shape[0]-2)]]].real.reshape(Xtest.shape[1],2))\n",
    "    return xhat,xhat_test"
   ]
  },
  {
   "cell_type": "code",
   "execution_count": 7,
   "metadata": {
    "collapsed": false
   },
   "outputs": [],
   "source": [
    "def prior_prob(target):\n",
    "    classes=list(np.unique(target))\n",
    "    prior=[]\n",
    "    for x in classes:\n",
    "        prior.append(float(sum(target==x))/float(len(target)))\n",
    "    return prior"
   ]
  },
  {
   "cell_type": "code",
   "execution_count": 8,
   "metadata": {
    "collapsed": false
   },
   "outputs": [],
   "source": [
    "def covar_mean(X,target):\n",
    "    classes=list(np.unique(target))\n",
    "    mean=[]\n",
    "    covar=[]\n",
    "    for x in classes:\n",
    "        elts=np.copy(X[target==x])\n",
    "        mean.append(np.mean(elts,axis=0))\n",
    "        covar.append(np.cov(np.transpose(elts)))\n",
    "    return mean,covar"
   ]
  },
  {
   "cell_type": "code",
   "execution_count": 9,
   "metadata": {
    "collapsed": true
   },
   "outputs": [],
   "source": [
    "def compute_prob(mean,covar,xtest,target,prior):\n",
    "    classes=list(np.unique(target.astype(int)))\n",
    "    prob=np.zeros((xtest.shape[0],1))\n",
    "    marg_prob=np.zeros((xtest.shape[0],len(classes)))\n",
    "    for y in classes:\n",
    "        p=[]\n",
    "        for z in range(0,xtest.shape[0]):\n",
    "            class_mean=np.copy(mean[y])\n",
    "            class_covar=np.copy(covar[y])\n",
    "            part1=1.0/(2.0*math.pi*math.sqrt(np.linalg.det(class_covar)))\n",
    "            part2=math.exp(-0.5*np.dot((xtest[z]-class_mean),np.dot(np.linalg.inv(class_covar),np.transpose(xtest[z]-class_mean))))\n",
    "            p.append( part2 * part1 *prior[y])\n",
    "        marg_prob[:,y]=p\n",
    "        #break\n",
    "    return marg_prob"
   ]
  },
  {
   "cell_type": "code",
   "execution_count": 10,
   "metadata": {
    "collapsed": true
   },
   "outputs": [],
   "source": [
    "def accuracy(ytest,yhat):\n",
    "    right=float((yhat==ytest).sum())\n",
    "    accuracy=right/float(ytest.shape[0])\n",
    "    return accuracy"
   ]
  },
  {
   "cell_type": "code",
   "execution_count": 11,
   "metadata": {
    "collapsed": false
   },
   "outputs": [],
   "source": [
    "def cross_validation(X):\n",
    "    np.random.shuffle(X)\n",
    "    index=[]\n",
    "    for i in range(0,10):\n",
    "        index.append(range(X.shape[0]*i/10,X.shape[0]*(i+1)/10))\n",
    "    accura=[]\n",
    "    accura_train=[]\n",
    "    for i in range(0,len(index)):\n",
    "        Xtest=np.copy(X[index[i],:-1])\n",
    "        ytest=np.copy(X[index[i],-1])\n",
    "        Xtrain=np.delete(X[:,:-1],index[i],axis=0)\n",
    "        ytrain=np.delete(X[:,-1],index[i],axis=0)\n",
    "        mus=LDA_means(Xtrain,ytrain)\n",
    "        Sw=within_class_variance(Xtrain,mus,ytrain)\n",
    "        Sb=between_class_variance(Xtrain,mus,ytrain)\n",
    "        xhat,xhat_test=x_hat_func(Sw,Sb,Xtrain,Xtest)\n",
    "        prior=prior_prob(ytrain)\n",
    "        mean,covar=covar_mean(xhat,ytrain)\n",
    "        marg_prob=compute_prob(mean,covar,xhat_test,ytrain,prior)\n",
    "        marg_prob_train=compute_prob(mean,covar,xhat,ytrain,prior)\n",
    "        yhat=np.argsort(marg_prob,axis=1)[:,-1]\n",
    "        yhat_train=np.argsort(marg_prob_train,axis=1)[:,-1]\n",
    "        accura.append(accuracy(yhat.astype(int),ytest))\n",
    "        accura_train.append(accuracy(yhat_train.astype(int),ytrain))\n",
    "    return accura,accura_train"
   ]
  },
  {
   "cell_type": "code",
   "execution_count": 12,
   "metadata": {
    "collapsed": false
   },
   "outputs": [
    {
     "name": "stdout",
     "output_type": "stream",
     "text": [
      "(64L, 64L)\n",
      "(64L, 64L)\n",
      "(64L, 64L)\n",
      "(64L, 64L)\n",
      "(64L, 64L)\n",
      "(64L, 64L)\n",
      "(64L, 64L)\n",
      "(64L, 64L)\n",
      "(64L, 64L)\n",
      "(64L, 64L)\n",
      "Traing Error\n",
      "[0.29728059332509271, 0.32467532467532467, 0.30550401978973407, 0.28862793572311496, 0.32282003710575136, 0.24922696351267781, 0.28862793572311496, 0.29746444032158315, 0.28200371057513918, 0.27272727272727271]\n",
      "------------\n",
      "Standard Deveation Train\n",
      "0.021385200405\n",
      "------------\n",
      "Train error mean\n",
      "0.292895823348\n",
      "------------\n",
      "Test Error\n",
      "[0.32402234636871508, 0.37777777777777777, 0.34999999999999998, 0.27932960893854752, 0.36111111111111116, 0.30555555555555558, 0.33519553072625696, 0.37222222222222223, 0.31666666666666665, 0.33333333333333337]\n",
      "------------\n",
      "Test error mean\n",
      "0.33552141527\n",
      "------------\n",
      "Standard Deveation test\n",
      "0.0292320153827\n"
     ]
    }
   ],
   "source": [
    "acc,acc_train=cross_validation(digits_data)\n",
    "error=list(1.0-np.array(acc))\n",
    "error_train=list(1.0-np.array(acc_train))\n",
    "print \"Traing Error\"\n",
    "print error_train\n",
    "print \"------------\"\n",
    "print \"Standard Deveation Train\"\n",
    "print np.std(error_train)\n",
    "print \"------------\"\n",
    "print \"Train error mean\"\n",
    "print np.mean(error_train)\n",
    "print \"------------\"\n",
    "print \"Test Error\"\n",
    "print error\n",
    "print \"------------\"\n",
    "print \"Test error mean\"\n",
    "print np.mean(error)\n",
    "print \"------------\"\n",
    "print \"Standard Deveation test\"\n",
    "print np.std(error)"
   ]
  },
  {
   "cell_type": "code",
   "execution_count": null,
   "metadata": {
    "collapsed": true
   },
   "outputs": [],
   "source": []
  }
 ],
 "metadata": {
  "kernelspec": {
   "display_name": "Python 2",
   "language": "python",
   "name": "python2"
  },
  "language_info": {
   "codemirror_mode": {
    "name": "ipython",
    "version": 2
   },
   "file_extension": ".py",
   "mimetype": "text/x-python",
   "name": "python",
   "nbconvert_exporter": "python",
   "pygments_lexer": "ipython2",
   "version": "2.7.9"
  }
 },
 "nbformat": 4,
 "nbformat_minor": 0
}
